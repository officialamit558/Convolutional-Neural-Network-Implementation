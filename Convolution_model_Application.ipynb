{
 "cells": [
  {
   "cell_type": "markdown",
   "metadata": {},
   "source": [
    "# Convolutional Neural Networks: Application\n",
    "\n",
    "Welcome to Course 4's second assignment! In this notebook, you will:\n",
    "\n",
    "- Create a mood classifer using the TF Keras Sequential API\n",
    "- Build a ConvNet to identify sign language digits using the TF Keras Functional API\n"
   ]
  },
  {
   "cell_type": "markdown",
   "metadata": {},
   "source": []
  },
  {
   "cell_type": "markdown",
   "metadata": {},
   "source": [
    "<a name='1'></a>\n",
    "## 1 - Packages\n",
    "\n",
    "As usual, begin by loading in the packages."
   ]
  },
  {
   "cell_type": "code",
   "execution_count": null,
   "metadata": {
    "deletable": false,
    "editable": false
   },
   "outputs": [],
   "source": [
    "### v1.1"
   ]
  },
  {
   "cell_type": "code",
   "execution_count": 1,
   "metadata": {},
   "outputs": [],
   "source": [
    "import math\n",
    "import numpy as np\n",
    "import h5py\n",
    "import matplotlib.pyplot as plt\n",
    "from matplotlib.pyplot import imread\n",
    "import scipy\n",
    "from PIL import Image\n",
    "import pandas as pd\n",
    "import tensorflow as tf\n",
    "import tensorflow.keras.layers as tfl\n",
    "from tensorflow.python.framework import ops\n",
    "from cnn_utils import *\n",
    "from test_utils import summary, comparator\n",
    "\n",
    "%matplotlib inline\n",
    "np.random.seed(1)"
   ]
  },
  {
   "cell_type": "markdown",
   "metadata": {},
   "source": [
    "<a name='1-1'></a>\n",
    "### 1.1 - Load the Data and Split the Data into Train/Test Sets\n",
    "\n",
    "You'll be using the Happy House dataset for this part of the assignment, which contains images of peoples' faces. Your task will be to build a ConvNet that determines whether the people in the images are smiling or not -- because they only get to enter the house if they're smiling!  "
   ]
  },
  {
   "cell_type": "code",
   "execution_count": 22,
   "metadata": {},
   "outputs": [
    {
     "name": "stdout",
     "output_type": "stream",
     "text": [
      "number of training examples = 600\n",
      "number of test examples = 150\n",
      "X_train shape: (600, 64, 64, 3)\n",
      "Y_train shape: (600, 1)\n",
      "X_test shape: (150, 64, 64, 3)\n",
      "Y_test shape: (150, 1)\n"
     ]
    }
   ],
   "source": [
    "X_train_orig, Y_train_orig, X_test_orig, Y_test_orig, classes = load_happy_dataset()\n",
    "\n",
    "# Normalize image vectors\n",
    "X_train = X_train_orig/255.\n",
    "X_test = X_test_orig/255.\n",
    "\n",
    "# Reshape\n",
    "Y_train = Y_train_orig.T\n",
    "Y_test = Y_test_orig.T\n",
    "\n",
    "print (\"number of training examples = \" + str(X_train.shape[0]))\n",
    "print (\"number of test examples = \" + str(X_test.shape[0]))\n",
    "print (\"X_train shape: \" + str(X_train.shape))\n",
    "print (\"Y_train shape: \" + str(Y_train.shape))\n",
    "print (\"X_test shape: \" + str(X_test.shape))\n",
    "print (\"Y_test shape: \" + str(Y_test.shape))"
   ]
  },
  {
   "cell_type": "markdown",
   "metadata": {},
   "source": [
    "You can display the images contained in the dataset. Images are **64x64** pixels in RGB format (3 channels)."
   ]
  },
  {
   "cell_type": "code",
   "execution_count": 4,
   "metadata": {},
   "outputs": [
    {
     "data": {
      "image/png": "[encoded data removed]",
      "text/plain": [
       "<Figure size 432x288 with 1 Axes>"
      ]
     },
     "metadata": {
      "needs_background": "light"
     },
     "output_type": "display_data"
    }
   ],
   "source": [
    "index = 120\n",
    "plt.imshow(X_train_orig[index]) #display sample training image\n",
    "plt.show()"
   ]
  },
  {
   "cell_type": "markdown",
   "metadata": {},
   "source": []
  },
  {
   "cell_type": "markdown",
   "metadata": {},
   "source": []
  },
  {
   "cell_type": "markdown",
   "metadata": {},
   "source": [
    "\n",
    "\n",
    "<a name='ex-1'></a>\n",
    "### happyModel\n",
    "\n",
    "Implement the `happyModel` function below to build the following model: `ZEROPAD2D -> CONV2D -> BATCHNORM -> RELU -> MAXPOOL -> FLATTEN -> DENSE`. Take help from [tf.keras.layers](https://www.tensorflow.org/api_docs/python/tf/keras/layers) \n",
    "\n",
    "Also, plug in the following parameters for all the steps:\n",
    "\n",
    " - [ZeroPadding2D](https://www.tensorflow.org/api_docs/python/tf/keras/layers/ZeroPadding2D): padding 3, input shape 64 x 64 x 3\n",
    " - [Conv2D](https://www.tensorflow.org/api_docs/python/tf/keras/layers/Conv2D): Use 32 7x7 filters, stride 1\n",
    " - [BatchNormalization](https://www.tensorflow.org/api_docs/python/tf/keras/layers/BatchNormalization): for axis 3\n",
    " - [ReLU](https://www.tensorflow.org/api_docs/python/tf/keras/layers/ReLU)\n",
    " - [MaxPool2D](https://www.tensorflow.org/api_docs/python/tf/keras/layers/MaxPool2D): Using default parameters\n",
    " - [Flatten](https://www.tensorflow.org/api_docs/python/tf/keras/layers/Flatten) the previous output.\n",
    " - Fully-connected ([Dense](https://www.tensorflow.org/api_docs/python/tf/keras/layers/Dense)) layer: Apply a fully connected layer with 1 neuron and a sigmoid activation. \n",
    " \n",
    " \n",
    " **Hint:**\n",
    " \n",
    " Use **tfl** as shorthand for **tensorflow.keras.layers**"
   ]
  },
  {
   "cell_type": "code",
   "execution_count": null,
   "metadata": {},
   "outputs": [],
   "source": [
    "from tensorflow import keras\n",
    "from keras import Sequential\n",
    "from keras.layers import Conv2D , MaxPooling2D , Dense , Relu , Softmax "
   ]
  },
  {
   "cell_type": "code",
   "execution_count": 17,
   "metadata": {
    "deletable": false,
    "nbgrader": {
     "cell_type": "code",
     "checksum": "95d28b191f257bdd5b70c7b8952559d5",
     "grade": false,
     "grade_id": "cell-0e56d3fc28b69aec",
     "locked": false,
     "schema_version": 3,
     "solution": true,
     "task": false
    }
   },
   "outputs": [],
   "source": [
    "# GRADED FUNCTION: happyModel\n",
    "\n",
    "def happyModel():\n",
    "\n",
    "    model = tf.keras.Sequential([\n",
    "        \n",
    "        tf.keras.layers.ZeroPadding2D(padding=(3,3),input_shape=(64, 64, 3), data_format=\"channels_last\"),\n",
    "    \n",
    "        tf.keras.layers.Conv2D(32, (7, 7), strides = (1, 1), name = 'conv0'),\n",
    "        \n",
    "        \n",
    "        tf.keras.layers.BatchNormalization(axis = 3, name = 'bn0'),\n",
    "        \n",
    "        tf.keras.layers.ReLU(max_value=None, negative_slope=0.0, threshold=0.0),\n",
    "        \n",
    "        tf.keras.layers.MaxPooling2D((2, 2), name='max_pool0'),\n",
    "    \n",
    "        tf.keras.layers.Flatten(),\n",
    "    \n",
    "        tf.keras.layers.Dense(1, activation='sigmoid', name='fc'),\n",
    "        ])\n",
    "    \n",
    "    return model\n"
   ]
  },
  {
   "cell_type": "code",
   "execution_count": 18,
   "metadata": {
    "deletable": false,
    "editable": false,
    "nbgrader": {
     "cell_type": "code",
     "checksum": "8d3575c950e2e78149be2d05d671c80d",
     "grade": true,
     "grade_id": "cell-e3e1046e5c33d775",
     "locked": true,
     "points": 10,
     "schema_version": 3,
     "solution": false,
     "task": false
    }
   },
   "outputs": [
    {
     "name": "stdout",
     "output_type": "stream",
     "text": [
      "['ZeroPadding2D', (None, 70, 70, 3), 0, ((3, 3), (3, 3))]\n",
      "['Conv2D', (None, 64, 64, 32), 4736, 'valid', 'linear', 'GlorotUniform']\n",
      "['BatchNormalization', (None, 64, 64, 32), 128]\n",
      "['ReLU', (None, 64, 64, 32), 0]\n",
      "['MaxPooling2D', (None, 32, 32, 32), 0, (2, 2), (2, 2), 'valid']\n",
      "['Flatten', (None, 32768), 0]\n",
      "['Dense', (None, 1), 32769, 'sigmoid']\n",
      "\u001b[32mAll tests passed!\u001b[0m\n"
     ]
    }
   ],
   "source": [
    "happy_model = happyModel()\n",
    "# Print a summary for each layer\n",
    "for layer in summary(happy_model):\n",
    "    print(layer)\n",
    "    \n",
    "output = [['ZeroPadding2D', (None, 70, 70, 3), 0, ((3, 3), (3, 3))],\n",
    "            ['Conv2D', (None, 64, 64, 32), 4736, 'valid', 'linear', 'GlorotUniform'],\n",
    "            ['BatchNormalization', (None, 64, 64, 32), 128],\n",
    "            ['ReLU', (None, 64, 64, 32), 0],\n",
    "            ['MaxPooling2D', (None, 32, 32, 32), 0, (2, 2), (2, 2), 'valid'],\n",
    "            ['Flatten', (None, 32768), 0],\n",
    "            ['Dense', (None, 1), 32769, 'sigmoid']]\n",
    "    \n",
    "comparator(summary(happy_model), output)"
   ]
  },
  {
   "cell_type": "markdown",
   "metadata": {},
   "source": []
  },
  {
   "cell_type": "markdown",
   "metadata": {},
   "source": []
  },
  {
   "cell_type": "code",
   "execution_count": 19,
   "metadata": {},
   "outputs": [],
   "source": [
    "happy_model.compile(optimizer='adam',\n",
    "                   loss='binary_crossentropy',\n",
    "                   metrics=['accuracy'])"
   ]
  },
  {
   "cell_type": "markdown",
   "metadata": {},
   "source": [
    "It's time to check your model's parameters with the `.summary()` method. This will display the types of layers you have, the shape of the outputs, and how many parameters are in each layer. "
   ]
  },
  {
   "cell_type": "code",
   "execution_count": 20,
   "metadata": {},
   "outputs": [
    {
     "name": "stdout",
     "output_type": "stream",
     "text": [
      "Model: \"sequential_5\"\n",
      "_________________________________________________________________\n",
      "Layer (type)                 Output Shape              Param #   \n",
      "=================================================================\n",
      "zero_padding2d_5 (ZeroPaddin (None, 70, 70, 3)         0         \n",
      "_________________________________________________________________\n",
      "conv0 (Conv2D)               (None, 64, 64, 32)        4736      \n",
      "_________________________________________________________________\n",
      "bn0 (BatchNormalization)     (None, 64, 64, 32)        128       \n",
      "_________________________________________________________________\n",
      "re_lu (ReLU)                 (None, 64, 64, 32)        0         \n",
      "_________________________________________________________________\n",
      "max_pool0 (MaxPooling2D)     (None, 32, 32, 32)        0         \n",
      "_________________________________________________________________\n",
      "flatten_5 (Flatten)          (None, 32768)             0         \n",
      "_________________________________________________________________\n",
      "fc (Dense)                   (None, 1)                 32769     \n",
      "=================================================================\n",
      "Total params: 37,633\n",
      "Trainable params: 37,569\n",
      "Non-trainable params: 64\n",
      "_________________________________________________________________\n"
     ]
    }
   ],
   "source": [
    "happy_model.summary()"
   ]
  },
  {
   "cell_type": "markdown",
   "metadata": {},
   "source": [
    "<a name='3-2'></a>\n",
    "### 3.2 - Train and Evaluate the Model\n",
    "\n",
    "After creating the model, compiling it with your choice of optimizer and loss function, and doing a sanity check on its contents, you are now ready to build! \n",
    "\n",
    "Simply call `.fit()` to train. That's it! No need for mini-batching, saving, or complex backpropagation computations. That's all been done for you, as you're using a TensorFlow dataset with the batches specified already. You do have the option to specify epoch number or minibatch size if you like (for example, in the case of an un-batched dataset)."
   ]
  },
  {
   "cell_type": "code",
   "execution_count": 23,
   "metadata": {},
   "outputs": [
    {
     "name": "stdout",
     "output_type": "stream",
     "text": [
      "Epoch 1/10\n",
      "38/38 [==============================] - 4s 100ms/step - loss: 0.7185 - accuracy: 0.7700\n",
      "Epoch 2/10\n",
      "38/38 [==============================] - 4s 97ms/step - loss: 0.2150 - accuracy: 0.9133\n",
      "Epoch 3/10\n",
      "38/38 [==============================] - 4s 97ms/step - loss: 0.1333 - accuracy: 0.9500\n",
      "Epoch 4/10\n",
      "38/38 [==============================] - 4s 95ms/step - loss: 0.0893 - accuracy: 0.9567\n",
      "Epoch 5/10\n",
      "38/38 [==============================] - 4s 97ms/step - loss: 0.1072 - accuracy: 0.9600\n",
      "Epoch 6/10\n",
      "38/38 [==============================] - 4s 95ms/step - loss: 0.0880 - accuracy: 0.9700\n",
      "Epoch 7/10\n",
      "38/38 [==============================] - 4s 95ms/step - loss: 0.1398 - accuracy: 0.9500\n",
      "Epoch 8/10\n",
      "38/38 [==============================] - 4s 97ms/step - loss: 0.0720 - accuracy: 0.9733\n",
      "Epoch 9/10\n",
      "38/38 [==============================] - 4s 97ms/step - loss: 0.1937 - accuracy: 0.9433\n",
      "Epoch 10/10\n",
      "38/38 [==============================] - 4s 100ms/step - loss: 0.1163 - accuracy: 0.9633\n"
     ]
    },
    {
     "data": {
      "text/plain": [
       "<tensorflow.python.keras.callbacks.History at 0x7f0b300e3090>"
      ]
     },
     "execution_count": 23,
     "metadata": {},
     "output_type": "execute_result"
    }
   ],
   "source": [
    "happy_model.fit(X_train, Y_train, epochs=10, batch_size=16)"
   ]
  },
  {
   "cell_type": "markdown",
   "metadata": {},
   "source": [
    "After that completes, just use `.evaluate()` to evaluate against your test set. This function will print the value of the loss function and the performance metrics specified during the compilation of the model. In this case, the `binary_crossentropy` and the `accuracy` respectively."
   ]
  },
  {
   "cell_type": "code",
   "execution_count": 24,
   "metadata": {},
   "outputs": [
    {
     "name": "stdout",
     "output_type": "stream",
     "text": [
      "5/5 [==============================] - 0s 39ms/step - loss: 2.9534 - accuracy: 0.5600\n"
     ]
    },
    {
     "data": {
      "text/plain": [
       "[2.9534244537353516, 0.5600000023841858]"
      ]
     },
     "execution_count": 24,
     "metadata": {},
     "output_type": "execute_result"
    }
   ],
   "source": [
    "happy_model.evaluate(X_test, Y_test)"
   ]
  },
  {
   "cell_type": "markdown",
   "metadata": {},
   "source": [
    "Easy, right? But what if you need to build a model with shared layers, branches, or multiple inputs and outputs? This is where Sequential, with its beautifully simple yet limited functionality, won't be able to help you. \n",
    "\n",
    "Next up: Enter the Functional API, your slightly more complex, highly flexible friend.  "
   ]
  },
  {
   "cell_type": "markdown",
   "metadata": {},
   "source": [
    "<a name='4'></a>\n",
    "## 4 - The Functional API"
   ]
  },
  {
   "cell_type": "markdown",
   "metadata": {},
   "source": []
  },
  {
   "cell_type": "markdown",
   "metadata": {},
   "source": [
    "<img src=\"images/seq_vs_func.png\" style=\"width:350px;height:200px;\">"
   ]
  },
  {
   "cell_type": "markdown",
   "metadata": {},
   "source": [
    "<a name='4-1'></a>\n",
    "### 4.1 - Load the SIGNS Dataset\n",
    "\n",
    "As a reminder, the SIGNS dataset is a collection of 6 signs representing numbers from 0 to 5."
   ]
  },
  {
   "cell_type": "code",
   "execution_count": 25,
   "metadata": {},
   "outputs": [],
   "source": [
    "# Loading the data (signs)\n",
    "X_train_orig, Y_train_orig, X_test_orig, Y_test_orig, classes = load_signs_dataset()"
   ]
  },
  {
   "cell_type": "markdown",
   "metadata": {},
   "source": [
    "<img src=\"images/SIGNS.png\" style=\"width:800px;height:300px;\">\n",
    "\n",
    "The next cell will show you an example of a labelled image in the dataset. Feel free to change the value of `index` below and re-run to see different examples. "
   ]
  },
  {
   "cell_type": "code",
   "execution_count": 26,
   "metadata": {},
   "outputs": [
    {
     "name": "stdout",
     "output_type": "stream",
     "text": [
      "y = 4\n"
     ]
    },
    {
     "data": {
      "image/png": "[encoded data removed]",
      "text/plain": [
       "<Figure size 432x288 with 1 Axes>"
      ]
     },
     "metadata": {
      "needs_background": "light"
     },
     "output_type": "display_data"
    }
   ],
   "source": [
    "# Example of an image from the dataset\n",
    "index = 9\n",
    "plt.imshow(X_train_orig[index])\n",
    "print (\"y = \" + str(np.squeeze(Y_train_orig[:, index])))"
   ]
  },
  {
   "cell_type": "markdown",
   "metadata": {},
   "source": [
    "<a name='4-2'></a>\n",
    "### 4.2 - Split the Data into Train/Test Sets\n",
    "\n",
    "In Course 2, you built a fully-connected network for this dataset. But since this is an image dataset, it is more natural to apply a ConvNet to it.\n",
    "\n",
    "To get started, let's examine the shapes of your data. "
   ]
  },
  {
   "cell_type": "code",
   "execution_count": 27,
   "metadata": {},
   "outputs": [
    {
     "name": "stdout",
     "output_type": "stream",
     "text": [
      "number of training examples = 1080\n",
      "number of test examples = 120\n",
      "X_train shape: (1080, 64, 64, 3)\n",
      "Y_train shape: (1080, 6)\n",
      "X_test shape: (120, 64, 64, 3)\n",
      "Y_test shape: (120, 6)\n"
     ]
    }
   ],
   "source": [
    "X_train = X_train_orig/255.\n",
    "X_test = X_test_orig/255.\n",
    "Y_train = convert_to_one_hot(Y_train_orig, 6).T\n",
    "Y_test = convert_to_one_hot(Y_test_orig, 6).T\n",
    "print (\"number of training examples = \" + str(X_train.shape[0]))\n",
    "print (\"number of test examples = \" + str(X_test.shape[0]))\n",
    "print (\"X_train shape: \" + str(X_train.shape))\n",
    "print (\"Y_train shape: \" + str(Y_train.shape))\n",
    "print (\"X_test shape: \" + str(X_test.shape))\n",
    "print (\"Y_test shape: \" + str(Y_test.shape))"
   ]
  },
  {
   "cell_type": "markdown",
   "metadata": {},
   "source": []
  },
  {
   "cell_type": "markdown",
   "metadata": {},
   "source": [
    "<a name='ex-2'></a>\n",
    "###  convolutional_model\n",
    "\n",
    "Implement the `convolutional_model` function below to build the following model: `CONV2D -> RELU -> MAXPOOL -> CONV2D -> RELU -> MAXPOOL -> FLATTEN -> DENSE`. Use the functions above! \n",
    "\n",
    "Also, plug in the following parameters for all the steps:\n",
    "\n",
    " - [Conv2D](https://www.tensorflow.org/api_docs/python/tf/keras/layers/Conv2D): Use 8 4 by 4 filters, stride 1, padding is \"SAME\"\n",
    " - [ReLU](https://www.tensorflow.org/api_docs/python/tf/keras/layers/ReLU)\n",
    " - [MaxPool2D](https://www.tensorflow.org/api_docs/python/tf/keras/layers/MaxPool2D): Use an 8 by 8 filter size and an 8 by 8 stride, padding is \"SAME\"\n",
    " - **Conv2D**: Use 16 2 by 2 filters, stride 1, padding is \"SAME\"\n",
    " - **ReLU**\n",
    " - **MaxPool2D**: Use a 4 by 4 filter size and a 4 by 4 stride, padding is \"SAME\"\n",
    " - [Flatten](https://www.tensorflow.org/api_docs/python/tf/keras/layers/Flatten) the previous output.\n",
    " - Fully-connected ([Dense](https://www.tensorflow.org/api_docs/python/tf/keras/layers/Dense)) layer: Apply a fully connected layer with 6 neurons and a softmax activation. "
   ]
  },
  {
   "cell_type": "code",
   "execution_count": 47,
   "metadata": {
    "deletable": false,
    "nbgrader": {
     "cell_type": "code",
     "checksum": "f58643806aa8380c96225fc8b4c5e7aa",
     "grade": false,
     "grade_id": "cell-dac51744a9e03f51",
     "locked": false,
     "schema_version": 3,
     "solution": true,
     "task": false
    }
   },
   "outputs": [],
   "source": [
    "# GRADED FUNCTION: convolutional_model\n",
    "\n",
    "def convolutional_model(input_shape):\n",
    "\n",
    "        \n",
    "    Z1 = tf.keras.layers.Conv2D(filters = 8 , kernel_size= (4,4), strides = (1,1), padding='same')(input_img)\n",
    "    A1 = tf.keras.layers.ReLU()(Z1)\n",
    "    P1 = tf.keras.layers.MaxPool2D(pool_size=(8,8), strides=(8, 8), padding='same')(A1)\n",
    "    Z2 = tf.keras.layers.Conv2D(filters = 16 , kernel_size= (2,2), strides = (1,1), padding='same')(P1)\n",
    "    A2 = tf.keras.layers.ReLU()(Z2)\n",
    "    P2 = tf.keras.layers.MaxPool2D(pool_size=(4,4), strides=(4, 4), padding='same')(A2)\n",
    "    F = tf.keras.layers.Flatten()(P2)\n",
    "    outputs = tf.keras.layers.Dense(units=6, activation='softmax')(F)\n",
    "    \n",
    "    \n",
    "    # YOUR CODE ENDS HERE\n",
    "    model = tf.keras.Model(inputs=input_img, outputs=outputs)\n",
    "    return model"
   ]
  },
  {
   "cell_type": "code",
   "execution_count": 48,
   "metadata": {
    "deletable": false,
    "editable": false,
    "nbgrader": {
     "cell_type": "code",
     "checksum": "483d626949930a0b0ef20997e7c6ba72",
     "grade": true,
     "grade_id": "cell-45d22e92042174c9",
     "locked": true,
     "points": 10,
     "schema_version": 3,
     "solution": false,
     "task": false
    }
   },
   "outputs": [
    {
     "name": "stdout",
     "output_type": "stream",
     "text": [
      "Model: \"functional_5\"\n",
      "_________________________________________________________________\n",
      "Layer (type)                 Output Shape              Param #   \n",
      "=================================================================\n",
      "input_10 (InputLayer)        [(None, 64, 64, 3)]       0         \n",
      "_________________________________________________________________\n",
      "conv2d_17 (Conv2D)           (None, 64, 64, 8)         392       \n",
      "_________________________________________________________________\n",
      "re_lu_12 (ReLU)              (None, 64, 64, 8)         0         \n",
      "_________________________________________________________________\n",
      "max_pooling2d_16 (MaxPooling (None, 8, 8, 8)           0         \n",
      "_________________________________________________________________\n",
      "conv2d_18 (Conv2D)           (None, 8, 8, 16)          528       \n",
      "_________________________________________________________________\n",
      "re_lu_13 (ReLU)              (None, 8, 8, 16)          0         \n",
      "_________________________________________________________________\n",
      "max_pooling2d_17 (MaxPooling (None, 2, 2, 16)          0         \n",
      "_________________________________________________________________\n",
      "flatten_11 (Flatten)         (None, 64)                0         \n",
      "_________________________________________________________________\n",
      "dense_10 (Dense)             (None, 6)                 390       \n",
      "=================================================================\n",
      "Total params: 1,310\n",
      "Trainable params: 1,310\n",
      "Non-trainable params: 0\n",
      "_________________________________________________________________\n",
      "\u001b[32mAll tests passed!\u001b[0m\n"
     ]
    }
   ],
   "source": [
    "conv_model = convolutional_model((64, 64, 3))\n",
    "conv_model.compile(optimizer='adam',\n",
    "                  loss='categorical_crossentropy',\n",
    "                  metrics=['accuracy'])\n",
    "conv_model.summary()\n",
    "    \n",
    "output = [['InputLayer', [(None, 64, 64, 3)], 0],\n",
    "        ['Conv2D', (None, 64, 64, 8), 392, 'same', 'linear', 'GlorotUniform'],\n",
    "        ['ReLU', (None, 64, 64, 8), 0],\n",
    "        ['MaxPooling2D', (None, 8, 8, 8), 0, (8, 8), (8, 8), 'same'],\n",
    "        ['Conv2D', (None, 8, 8, 16), 528, 'same', 'linear', 'GlorotUniform'],\n",
    "        ['ReLU', (None, 8, 8, 16), 0],\n",
    "        ['MaxPooling2D', (None, 2, 2, 16), 0, (4, 4), (4, 4), 'same'],\n",
    "        ['Flatten', (None, 64), 0],\n",
    "        ['Dense', (None, 6), 390, 'softmax']]\n",
    "    \n",
    "comparator(summary(conv_model), output)"
   ]
  },
  {
   "cell_type": "markdown",
   "metadata": {},
   "source": [
    "Both the Sequential and Functional APIs return a TF Keras model object. The only difference is how inputs are handled inside the object model! "
   ]
  },
  {
   "cell_type": "markdown",
   "metadata": {},
   "source": [
    "<a name='4-4'></a>\n",
    "### 4.4 - Train the Model"
   ]
  },
  {
   "cell_type": "code",
   "execution_count": 49,
   "metadata": {
    "scrolled": true
   },
   "outputs": [
    {
     "name": "stdout",
     "output_type": "stream",
     "text": [
      "Epoch 1/100\n",
      "17/17 [==============================] - 2s 112ms/step - loss: 1.8024 - accuracy: 0.1500 - val_loss: 1.7917 - val_accuracy: 0.1500\n",
      "Epoch 2/100\n",
      "17/17 [==============================] - 2s 107ms/step - loss: 1.7897 - accuracy: 0.2111 - val_loss: 1.7861 - val_accuracy: 0.2583\n",
      "Epoch 3/100\n",
      "17/17 [==============================] - 2s 108ms/step - loss: 1.7864 - accuracy: 0.2407 - val_loss: 1.7830 - val_accuracy: 0.2750\n",
      "Epoch 4/100\n",
      "17/17 [==============================] - 2s 107ms/step - loss: 1.7833 - accuracy: 0.2380 - val_loss: 1.7796 - val_accuracy: 0.3083\n",
      "Epoch 5/100\n",
      "17/17 [==============================] - 2s 107ms/step - loss: 1.7800 - accuracy: 0.2500 - val_loss: 1.7756 - val_accuracy: 0.3500\n",
      "Epoch 6/100\n",
      "17/17 [==============================] - 2s 112ms/step - loss: 1.7761 - accuracy: 0.2981 - val_loss: 1.7704 - val_accuracy: 0.4250\n",
      "Epoch 7/100\n",
      "17/17 [==============================] - 2s 111ms/step - loss: 1.7711 - accuracy: 0.3102 - val_loss: 1.7642 - val_accuracy: 0.3917\n",
      "Epoch 8/100\n",
      "17/17 [==============================] - 2s 112ms/step - loss: 1.7652 - accuracy: 0.3296 - val_loss: 1.7562 - val_accuracy: 0.3917\n",
      "Epoch 9/100\n",
      "17/17 [==============================] - 2s 112ms/step - loss: 1.7587 - accuracy: 0.3296 - val_loss: 1.7474 - val_accuracy: 0.3750\n",
      "Epoch 10/100\n",
      "17/17 [==============================] - 2s 111ms/step - loss: 1.7505 - accuracy: 0.3306 - val_loss: 1.7363 - val_accuracy: 0.3750\n",
      "Epoch 11/100\n",
      "17/17 [==============================] - 2s 112ms/step - loss: 1.7407 - accuracy: 0.3287 - val_loss: 1.7235 - val_accuracy: 0.3750\n",
      "Epoch 12/100\n",
      "17/17 [==============================] - 2s 107ms/step - loss: 1.7290 - accuracy: 0.3435 - val_loss: 1.7068 - val_accuracy: 0.3667\n",
      "Epoch 13/100\n",
      "17/17 [==============================] - 2s 106ms/step - loss: 1.7137 - accuracy: 0.3417 - val_loss: 1.6836 - val_accuracy: 0.3750\n",
      "Epoch 14/100\n",
      "17/17 [==============================] - 2s 112ms/step - loss: 1.6931 - accuracy: 0.3472 - val_loss: 1.6581 - val_accuracy: 0.3917\n",
      "Epoch 15/100\n",
      "17/17 [==============================] - 2s 106ms/step - loss: 1.6687 - accuracy: 0.3787 - val_loss: 1.6269 - val_accuracy: 0.4583\n",
      "Epoch 16/100\n",
      "17/17 [==============================] - 2s 107ms/step - loss: 1.6369 - accuracy: 0.3796 - val_loss: 1.5927 - val_accuracy: 0.3917\n",
      "Epoch 17/100\n",
      "17/17 [==============================] - 2s 107ms/step - loss: 1.6001 - accuracy: 0.4139 - val_loss: 1.5583 - val_accuracy: 0.4083\n",
      "Epoch 18/100\n",
      "17/17 [==============================] - 2s 111ms/step - loss: 1.5577 - accuracy: 0.4463 - val_loss: 1.5172 - val_accuracy: 0.4500\n",
      "Epoch 19/100\n",
      "17/17 [==============================] - 2s 107ms/step - loss: 1.5128 - accuracy: 0.4704 - val_loss: 1.4643 - val_accuracy: 0.5083\n",
      "Epoch 20/100\n",
      "17/17 [==============================] - 2s 112ms/step - loss: 1.4632 - accuracy: 0.5111 - val_loss: 1.4147 - val_accuracy: 0.5333\n",
      "Epoch 21/100\n",
      "17/17 [==============================] - 2s 111ms/step - loss: 1.4068 - accuracy: 0.5343 - val_loss: 1.3580 - val_accuracy: 0.5500\n",
      "Epoch 22/100\n",
      "17/17 [==============================] - 2s 111ms/step - loss: 1.3525 - accuracy: 0.5537 - val_loss: 1.3035 - val_accuracy: 0.5833\n",
      "Epoch 23/100\n",
      "17/17 [==============================] - 2s 111ms/step - loss: 1.2978 - accuracy: 0.5704 - val_loss: 1.2511 - val_accuracy: 0.6000\n",
      "Epoch 24/100\n",
      "17/17 [==============================] - 2s 107ms/step - loss: 1.2439 - accuracy: 0.5935 - val_loss: 1.1992 - val_accuracy: 0.6083\n",
      "Epoch 25/100\n",
      "17/17 [==============================] - 2s 107ms/step - loss: 1.1923 - accuracy: 0.6185 - val_loss: 1.1489 - val_accuracy: 0.6333\n",
      "Epoch 26/100\n",
      "17/17 [==============================] - 2s 111ms/step - loss: 1.1434 - accuracy: 0.6315 - val_loss: 1.1048 - val_accuracy: 0.6417\n",
      "Epoch 27/100\n",
      "17/17 [==============================] - 2s 112ms/step - loss: 1.0981 - accuracy: 0.6444 - val_loss: 1.0615 - val_accuracy: 0.6583\n",
      "Epoch 28/100\n",
      "17/17 [==============================] - 2s 107ms/step - loss: 1.0557 - accuracy: 0.6583 - val_loss: 1.0244 - val_accuracy: 0.6750\n",
      "Epoch 29/100\n",
      "17/17 [==============================] - 2s 112ms/step - loss: 1.0164 - accuracy: 0.6750 - val_loss: 0.9873 - val_accuracy: 0.6917\n",
      "Epoch 30/100\n",
      "17/17 [==============================] - 2s 113ms/step - loss: 0.9808 - accuracy: 0.6796 - val_loss: 0.9557 - val_accuracy: 0.7000\n",
      "Epoch 31/100\n",
      "17/17 [==============================] - 2s 111ms/step - loss: 0.9482 - accuracy: 0.6870 - val_loss: 0.9259 - val_accuracy: 0.7000\n",
      "Epoch 32/100\n",
      "17/17 [==============================] - 2s 112ms/step - loss: 0.9180 - accuracy: 0.6991 - val_loss: 0.8986 - val_accuracy: 0.7000\n",
      "Epoch 33/100\n",
      "17/17 [==============================] - 2s 107ms/step - loss: 0.8909 - accuracy: 0.7046 - val_loss: 0.8760 - val_accuracy: 0.7083\n",
      "Epoch 34/100\n",
      "17/17 [==============================] - 2s 106ms/step - loss: 0.8664 - accuracy: 0.7157 - val_loss: 0.8554 - val_accuracy: 0.7000\n",
      "Epoch 35/100\n",
      "17/17 [==============================] - 2s 106ms/step - loss: 0.8439 - accuracy: 0.7269 - val_loss: 0.8367 - val_accuracy: 0.7000\n",
      "Epoch 36/100\n",
      "17/17 [==============================] - 2s 112ms/step - loss: 0.8232 - accuracy: 0.7361 - val_loss: 0.8198 - val_accuracy: 0.7000\n",
      "Epoch 37/100\n",
      "17/17 [==============================] - 2s 112ms/step - loss: 0.8047 - accuracy: 0.7407 - val_loss: 0.8036 - val_accuracy: 0.7083\n",
      "Epoch 38/100\n",
      "17/17 [==============================] - 2s 108ms/step - loss: 0.7871 - accuracy: 0.7463 - val_loss: 0.7905 - val_accuracy: 0.7083\n",
      "Epoch 39/100\n",
      "17/17 [==============================] - 2s 109ms/step - loss: 0.7717 - accuracy: 0.7537 - val_loss: 0.7769 - val_accuracy: 0.7083\n",
      "Epoch 40/100\n",
      "17/17 [==============================] - 2s 111ms/step - loss: 0.7569 - accuracy: 0.7574 - val_loss: 0.7670 - val_accuracy: 0.7083\n",
      "Epoch 41/100\n",
      "17/17 [==============================] - 2s 107ms/step - loss: 0.7424 - accuracy: 0.7648 - val_loss: 0.7562 - val_accuracy: 0.7083\n",
      "Epoch 42/100\n",
      "17/17 [==============================] - 2s 112ms/step - loss: 0.7305 - accuracy: 0.7722 - val_loss: 0.7467 - val_accuracy: 0.7250\n",
      "Epoch 43/100\n",
      "17/17 [==============================] - 2s 112ms/step - loss: 0.7173 - accuracy: 0.7731 - val_loss: 0.7377 - val_accuracy: 0.7333\n",
      "Epoch 44/100\n",
      "17/17 [==============================] - 2s 112ms/step - loss: 0.7062 - accuracy: 0.7759 - val_loss: 0.7306 - val_accuracy: 0.7417\n",
      "Epoch 45/100\n",
      "17/17 [==============================] - 2s 107ms/step - loss: 0.6951 - accuracy: 0.7769 - val_loss: 0.7229 - val_accuracy: 0.7417\n",
      "Epoch 46/100\n",
      "17/17 [==============================] - 2s 112ms/step - loss: 0.6851 - accuracy: 0.7778 - val_loss: 0.7164 - val_accuracy: 0.7417\n",
      "Epoch 47/100\n",
      "17/17 [==============================] - 2s 112ms/step - loss: 0.6746 - accuracy: 0.7824 - val_loss: 0.7105 - val_accuracy: 0.7417\n",
      "Epoch 48/100\n",
      "17/17 [==============================] - 2s 106ms/step - loss: 0.6650 - accuracy: 0.7870 - val_loss: 0.7051 - val_accuracy: 0.7500\n",
      "Epoch 49/100\n",
      "17/17 [==============================] - 2s 112ms/step - loss: 0.6560 - accuracy: 0.7907 - val_loss: 0.6992 - val_accuracy: 0.7417\n",
      "Epoch 50/100\n",
      "17/17 [==============================] - 2s 117ms/step - loss: 0.6472 - accuracy: 0.7954 - val_loss: 0.6953 - val_accuracy: 0.7500\n",
      "Epoch 51/100\n",
      "17/17 [==============================] - 2s 111ms/step - loss: 0.6389 - accuracy: 0.7981 - val_loss: 0.6904 - val_accuracy: 0.7500\n",
      "Epoch 52/100\n",
      "17/17 [==============================] - 2s 112ms/step - loss: 0.6307 - accuracy: 0.8009 - val_loss: 0.6861 - val_accuracy: 0.7500\n",
      "Epoch 53/100\n",
      "17/17 [==============================] - 2s 112ms/step - loss: 0.6232 - accuracy: 0.8000 - val_loss: 0.6812 - val_accuracy: 0.7500\n",
      "Epoch 54/100\n",
      "17/17 [==============================] - 2s 107ms/step - loss: 0.6145 - accuracy: 0.8046 - val_loss: 0.6774 - val_accuracy: 0.7500\n",
      "Epoch 55/100\n",
      "17/17 [==============================] - 2s 111ms/step - loss: 0.6082 - accuracy: 0.8028 - val_loss: 0.6720 - val_accuracy: 0.7500\n",
      "Epoch 56/100\n",
      "17/17 [==============================] - 2s 112ms/step - loss: 0.5999 - accuracy: 0.8074 - val_loss: 0.6692 - val_accuracy: 0.7333\n",
      "Epoch 57/100\n",
      "17/17 [==============================] - 2s 106ms/step - loss: 0.5941 - accuracy: 0.8093 - val_loss: 0.6654 - val_accuracy: 0.7333\n",
      "Epoch 58/100\n",
      "17/17 [==============================] - 2s 107ms/step - loss: 0.5865 - accuracy: 0.8139 - val_loss: 0.6617 - val_accuracy: 0.7333\n",
      "Epoch 59/100\n",
      "17/17 [==============================] - 2s 111ms/step - loss: 0.5805 - accuracy: 0.8157 - val_loss: 0.6578 - val_accuracy: 0.7333\n",
      "Epoch 60/100\n",
      "17/17 [==============================] - 2s 111ms/step - loss: 0.5740 - accuracy: 0.8194 - val_loss: 0.6552 - val_accuracy: 0.7500\n",
      "Epoch 61/100\n",
      "17/17 [==============================] - 2s 107ms/step - loss: 0.5676 - accuracy: 0.8241 - val_loss: 0.6517 - val_accuracy: 0.7500\n",
      "Epoch 62/100\n",
      "17/17 [==============================] - 2s 106ms/step - loss: 0.5617 - accuracy: 0.8231 - val_loss: 0.6471 - val_accuracy: 0.7500\n",
      "Epoch 63/100\n",
      "17/17 [==============================] - 2s 106ms/step - loss: 0.5558 - accuracy: 0.8250 - val_loss: 0.6442 - val_accuracy: 0.7500\n",
      "Epoch 64/100\n",
      "17/17 [==============================] - 2s 106ms/step - loss: 0.5507 - accuracy: 0.8259 - val_loss: 0.6424 - val_accuracy: 0.7500\n",
      "Epoch 65/100\n",
      "17/17 [==============================] - 2s 106ms/step - loss: 0.5454 - accuracy: 0.8259 - val_loss: 0.6388 - val_accuracy: 0.7500\n",
      "Epoch 66/100\n",
      "17/17 [==============================] - 2s 112ms/step - loss: 0.5401 - accuracy: 0.8287 - val_loss: 0.6348 - val_accuracy: 0.7500\n",
      "Epoch 67/100\n",
      "17/17 [==============================] - 2s 112ms/step - loss: 0.5347 - accuracy: 0.8296 - val_loss: 0.6309 - val_accuracy: 0.7500\n",
      "Epoch 68/100\n",
      "17/17 [==============================] - 2s 107ms/step - loss: 0.5299 - accuracy: 0.8306 - val_loss: 0.6278 - val_accuracy: 0.7500\n",
      "Epoch 69/100\n",
      "17/17 [==============================] - 2s 107ms/step - loss: 0.5245 - accuracy: 0.8343 - val_loss: 0.6243 - val_accuracy: 0.7500\n",
      "Epoch 70/100\n",
      "17/17 [==============================] - 2s 106ms/step - loss: 0.5194 - accuracy: 0.8343 - val_loss: 0.6220 - val_accuracy: 0.7500\n",
      "Epoch 71/100\n",
      "17/17 [==============================] - 2s 111ms/step - loss: 0.5148 - accuracy: 0.8380 - val_loss: 0.6192 - val_accuracy: 0.7500\n",
      "Epoch 72/100\n",
      "17/17 [==============================] - ETA: 0s - loss: 0.5100 - accuracy: 0.83 - 2s 111ms/step - loss: 0.5100 - accuracy: 0.8398 - val_loss: 0.6171 - val_accuracy: 0.7500\n",
      "Epoch 73/100\n",
      "17/17 [==============================] - 2s 111ms/step - loss: 0.5060 - accuracy: 0.8417 - val_loss: 0.6139 - val_accuracy: 0.7500\n",
      "Epoch 74/100\n",
      "17/17 [==============================] - 2s 107ms/step - loss: 0.5013 - accuracy: 0.8426 - val_loss: 0.6113 - val_accuracy: 0.7667\n",
      "Epoch 75/100\n",
      "17/17 [==============================] - 2s 107ms/step - loss: 0.4971 - accuracy: 0.8426 - val_loss: 0.6085 - val_accuracy: 0.7583\n",
      "Epoch 76/100\n",
      "17/17 [==============================] - 2s 107ms/step - loss: 0.4925 - accuracy: 0.8454 - val_loss: 0.6059 - val_accuracy: 0.7667\n",
      "Epoch 77/100\n",
      "17/17 [==============================] - 2s 111ms/step - loss: 0.4889 - accuracy: 0.8444 - val_loss: 0.6040 - val_accuracy: 0.7583\n",
      "Epoch 78/100\n",
      "17/17 [==============================] - 2s 117ms/step - loss: 0.4847 - accuracy: 0.8481 - val_loss: 0.6011 - val_accuracy: 0.7750\n",
      "Epoch 79/100\n",
      "17/17 [==============================] - 2s 111ms/step - loss: 0.4810 - accuracy: 0.8481 - val_loss: 0.5987 - val_accuracy: 0.7667\n",
      "Epoch 80/100\n",
      "17/17 [==============================] - 2s 107ms/step - loss: 0.4768 - accuracy: 0.8481 - val_loss: 0.5959 - val_accuracy: 0.7750\n",
      "Epoch 81/100\n",
      "17/17 [==============================] - 2s 112ms/step - loss: 0.4731 - accuracy: 0.8509 - val_loss: 0.5928 - val_accuracy: 0.7667\n",
      "Epoch 82/100\n",
      "17/17 [==============================] - 2s 111ms/step - loss: 0.4691 - accuracy: 0.8528 - val_loss: 0.5908 - val_accuracy: 0.7833\n",
      "Epoch 83/100\n",
      "17/17 [==============================] - 2s 112ms/step - loss: 0.4656 - accuracy: 0.8528 - val_loss: 0.5894 - val_accuracy: 0.7833\n",
      "Epoch 84/100\n",
      "17/17 [==============================] - 2s 107ms/step - loss: 0.4621 - accuracy: 0.8546 - val_loss: 0.5865 - val_accuracy: 0.7833\n",
      "Epoch 85/100\n",
      "17/17 [==============================] - 2s 106ms/step - loss: 0.4585 - accuracy: 0.8556 - val_loss: 0.5841 - val_accuracy: 0.7833\n",
      "Epoch 86/100\n",
      "17/17 [==============================] - 2s 111ms/step - loss: 0.4551 - accuracy: 0.8565 - val_loss: 0.5824 - val_accuracy: 0.7833\n",
      "Epoch 87/100\n",
      "17/17 [==============================] - 2s 111ms/step - loss: 0.4519 - accuracy: 0.8565 - val_loss: 0.5801 - val_accuracy: 0.7833\n",
      "Epoch 88/100\n",
      "17/17 [==============================] - 2s 107ms/step - loss: 0.4484 - accuracy: 0.8574 - val_loss: 0.5777 - val_accuracy: 0.7833\n",
      "Epoch 89/100\n",
      "17/17 [==============================] - 2s 106ms/step - loss: 0.4453 - accuracy: 0.8593 - val_loss: 0.5754 - val_accuracy: 0.7833\n",
      "Epoch 90/100\n",
      "17/17 [==============================] - 2s 112ms/step - loss: 0.4418 - accuracy: 0.8648 - val_loss: 0.5728 - val_accuracy: 0.7833\n",
      "Epoch 91/100\n",
      "17/17 [==============================] - 2s 107ms/step - loss: 0.4385 - accuracy: 0.8648 - val_loss: 0.5713 - val_accuracy: 0.7833\n",
      "Epoch 92/100\n",
      "17/17 [==============================] - 2s 111ms/step - loss: 0.4355 - accuracy: 0.8676 - val_loss: 0.5692 - val_accuracy: 0.7833\n",
      "Epoch 93/100\n",
      "17/17 [==============================] - 2s 106ms/step - loss: 0.4326 - accuracy: 0.8667 - val_loss: 0.5670 - val_accuracy: 0.7833\n",
      "Epoch 94/100\n",
      "17/17 [==============================] - 2s 111ms/step - loss: 0.4295 - accuracy: 0.8676 - val_loss: 0.5653 - val_accuracy: 0.7833\n",
      "Epoch 95/100\n",
      "17/17 [==============================] - 2s 111ms/step - loss: 0.4268 - accuracy: 0.8685 - val_loss: 0.5637 - val_accuracy: 0.7833\n",
      "Epoch 96/100\n",
      "17/17 [==============================] - 2s 107ms/step - loss: 0.4238 - accuracy: 0.8694 - val_loss: 0.5618 - val_accuracy: 0.7833\n",
      "Epoch 97/100\n",
      "17/17 [==============================] - 2s 106ms/step - loss: 0.4210 - accuracy: 0.8704 - val_loss: 0.5597 - val_accuracy: 0.7833\n",
      "Epoch 98/100\n",
      "17/17 [==============================] - 2s 106ms/step - loss: 0.4180 - accuracy: 0.8722 - val_loss: 0.5589 - val_accuracy: 0.7833\n",
      "Epoch 99/100\n",
      "17/17 [==============================] - 2s 107ms/step - loss: 0.4153 - accuracy: 0.8731 - val_loss: 0.5569 - val_accuracy: 0.7833\n",
      "Epoch 100/100\n",
      "17/17 [==============================] - 2s 107ms/step - loss: 0.4125 - accuracy: 0.8731 - val_loss: 0.5555 - val_accuracy: 0.7833\n"
     ]
    }
   ],
   "source": [
    "train_dataset = tf.data.Dataset.from_tensor_slices((X_train, Y_train)).batch(64)\n",
    "test_dataset = tf.data.Dataset.from_tensor_slices((X_test, Y_test)).batch(64)\n",
    "history = conv_model.fit(train_dataset, epochs=100, validation_data=test_dataset)"
   ]
  },
  {
   "cell_type": "markdown",
   "metadata": {},
   "source": [
    "<a name='5'></a>\n",
    "## 5 - History Object \n",
    "\n",
    "The history object is an output of the `.fit()` operation, and provides a record of all the loss and metric values in memory. It's stored as a dictionary that you can retrieve at `history.history`: "
   ]
  },
  {
   "cell_type": "code",
   "execution_count": 50,
   "metadata": {
    "collapsed": true
   },
   "outputs": [
    {
     "data": {
      "text/plain": [
       "{'loss': [1.8023744821548462,\n",
       "  1.7896980047225952,\n",
       "  1.7863638401031494,\n",
       "  1.78328537940979,\n",
       "  1.7799980640411377,\n",
       "  1.776090383529663,\n",
       "  1.7711083889007568,\n",
       "  1.765164852142334,\n",
       "  1.7587159872055054,\n",
       "  1.7505172491073608,\n",
       "  1.740718126296997,\n",
       "  1.7289953231811523,\n",
       "  1.7136741876602173,\n",
       "  1.6931222677230835,\n",
       "  1.6686832904815674,\n",
       "  1.6369330883026123,\n",
       "  1.6000871658325195,\n",
       "  1.5577483177185059,\n",
       "  1.5128207206726074,\n",
       "  1.4632322788238525,\n",
       "  1.406810998916626,\n",
       "  1.3524991273880005,\n",
       "  1.297810435295105,\n",
       "  1.2439297437667847,\n",
       "  1.1923134326934814,\n",
       "  1.1434073448181152,\n",
       "  1.098112940788269,\n",
       "  1.055671215057373,\n",
       "  1.0164393186569214,\n",
       "  0.980821967124939,\n",
       "  0.9481762051582336,\n",
       "  0.9179675579071045,\n",
       "  0.8909444808959961,\n",
       "  0.8664199113845825,\n",
       "  0.843885600566864,\n",
       "  0.8231931924819946,\n",
       "  0.8046747446060181,\n",
       "  0.7871222496032715,\n",
       "  0.7716907262802124,\n",
       "  0.7568758130073547,\n",
       "  0.7424179315567017,\n",
       "  0.7304820418357849,\n",
       "  0.7172985076904297,\n",
       "  0.7062016725540161,\n",
       "  0.6950613260269165,\n",
       "  0.6850683093070984,\n",
       "  0.6746175289154053,\n",
       "  0.6649683117866516,\n",
       "  0.6560432314872742,\n",
       "  0.6472443342208862,\n",
       "  0.638875424861908,\n",
       "  0.6306822896003723,\n",
       "  0.6231585144996643,\n",
       "  0.6145352721214294,\n",
       "  0.6082326769828796,\n",
       "  0.5999387502670288,\n",
       "  0.5941371321678162,\n",
       "  0.5864870548248291,\n",
       "  0.5805355310440063,\n",
       "  0.5740028619766235,\n",
       "  0.5676350593566895,\n",
       "  0.5617284178733826,\n",
       "  0.5557618141174316,\n",
       "  0.5507352948188782,\n",
       "  0.5454369187355042,\n",
       "  0.54005366563797,\n",
       "  0.5347056984901428,\n",
       "  0.5299069881439209,\n",
       "  0.5245162844657898,\n",
       "  0.5194119215011597,\n",
       "  0.5147994756698608,\n",
       "  0.5100190043449402,\n",
       "  0.5060197710990906,\n",
       "  0.5012786984443665,\n",
       "  0.49714648723602295,\n",
       "  0.492483526468277,\n",
       "  0.4889431297779083,\n",
       "  0.48467400670051575,\n",
       "  0.48103371262550354,\n",
       "  0.47684162855148315,\n",
       "  0.4731392562389374,\n",
       "  0.469069242477417,\n",
       "  0.46563684940338135,\n",
       "  0.46212565898895264,\n",
       "  0.4584939777851105,\n",
       "  0.45513051748275757,\n",
       "  0.4519127607345581,\n",
       "  0.44839388132095337,\n",
       "  0.44527557492256165,\n",
       "  0.4417521357536316,\n",
       "  0.43845462799072266,\n",
       "  0.4354568123817444,\n",
       "  0.43262165784835815,\n",
       "  0.42954686284065247,\n",
       "  0.4267773926258087,\n",
       "  0.4237903654575348,\n",
       "  0.4209764301776886,\n",
       "  0.41802266240119934,\n",
       "  0.41532543301582336,\n",
       "  0.41253411769866943],\n",
       " 'accuracy': [0.15000000596046448,\n",
       "  0.21111111342906952,\n",
       "  0.24074074625968933,\n",
       "  0.23796296119689941,\n",
       "  0.25,\n",
       "  0.29814815521240234,\n",
       "  0.31018519401550293,\n",
       "  0.3296296298503876,\n",
       "  0.3296296298503876,\n",
       "  0.3305555582046509,\n",
       "  0.32870370149612427,\n",
       "  0.34351852536201477,\n",
       "  0.34166666865348816,\n",
       "  0.3472222089767456,\n",
       "  0.3787037134170532,\n",
       "  0.37962964177131653,\n",
       "  0.4138889014720917,\n",
       "  0.4462963044643402,\n",
       "  0.4703703820705414,\n",
       "  0.5111111402511597,\n",
       "  0.5342592597007751,\n",
       "  0.5537037253379822,\n",
       "  0.5703703761100769,\n",
       "  0.5935184955596924,\n",
       "  0.6185185313224792,\n",
       "  0.6314814686775208,\n",
       "  0.644444465637207,\n",
       "  0.6583333611488342,\n",
       "  0.675000011920929,\n",
       "  0.6796296238899231,\n",
       "  0.6870370507240295,\n",
       "  0.6990740895271301,\n",
       "  0.7046296000480652,\n",
       "  0.7157407402992249,\n",
       "  0.7268518805503845,\n",
       "  0.7361111044883728,\n",
       "  0.7407407164573669,\n",
       "  0.7462962865829468,\n",
       "  0.7537037134170532,\n",
       "  0.7574074268341064,\n",
       "  0.7648147940635681,\n",
       "  0.7722222208976746,\n",
       "  0.7731481194496155,\n",
       "  0.7759259343147278,\n",
       "  0.7768518328666687,\n",
       "  0.7777777910232544,\n",
       "  0.7824074029922485,\n",
       "  0.7870370149612427,\n",
       "  0.7907407283782959,\n",
       "  0.7953703999519348,\n",
       "  0.7981481552124023,\n",
       "  0.8009259104728699,\n",
       "  0.800000011920929,\n",
       "  0.8046296238899231,\n",
       "  0.8027777671813965,\n",
       "  0.8074073791503906,\n",
       "  0.8092592358589172,\n",
       "  0.8138889074325562,\n",
       "  0.8157407641410828,\n",
       "  0.8194444179534912,\n",
       "  0.8240740895271301,\n",
       "  0.8231481313705444,\n",
       "  0.824999988079071,\n",
       "  0.8259259462356567,\n",
       "  0.8259259462356567,\n",
       "  0.8287037014961243,\n",
       "  0.8296296000480652,\n",
       "  0.8305555582046509,\n",
       "  0.8342592716217041,\n",
       "  0.8342592716217041,\n",
       "  0.8379629850387573,\n",
       "  0.8398148417472839,\n",
       "  0.8416666388511658,\n",
       "  0.8425925970077515,\n",
       "  0.8425925970077515,\n",
       "  0.845370352268219,\n",
       "  0.8444444537162781,\n",
       "  0.8481481671333313,\n",
       "  0.8481481671333313,\n",
       "  0.8481481671333313,\n",
       "  0.8509259223937988,\n",
       "  0.8527777791023254,\n",
       "  0.8527777791023254,\n",
       "  0.854629635810852,\n",
       "  0.855555534362793,\n",
       "  0.8564814925193787,\n",
       "  0.8564814925193787,\n",
       "  0.8574073910713196,\n",
       "  0.8592592477798462,\n",
       "  0.864814817905426,\n",
       "  0.864814817905426,\n",
       "  0.8675925731658936,\n",
       "  0.8666666746139526,\n",
       "  0.8675925731658936,\n",
       "  0.8685185313224792,\n",
       "  0.8694444298744202,\n",
       "  0.8703703880310059,\n",
       "  0.8722222447395325,\n",
       "  0.8731481432914734,\n",
       "  0.8731481432914734],\n",
       " 'val_loss': [1.791662573814392,\n",
       "  1.7861069440841675,\n",
       "  1.7829639911651611,\n",
       "  1.7795614004135132,\n",
       "  1.775585651397705,\n",
       "  1.7704391479492188,\n",
       "  1.7641901969909668,\n",
       "  1.7561838626861572,\n",
       "  1.7474067211151123,\n",
       "  1.7362769842147827,\n",
       "  1.7234776020050049,\n",
       "  1.706761121749878,\n",
       "  1.6836258172988892,\n",
       "  1.6580685377120972,\n",
       "  1.6269439458847046,\n",
       "  1.5927317142486572,\n",
       "  1.5583404302597046,\n",
       "  1.517170786857605,\n",
       "  1.4643498659133911,\n",
       "  1.4147149324417114,\n",
       "  1.3579670190811157,\n",
       "  1.3035309314727783,\n",
       "  1.251050591468811,\n",
       "  1.1991686820983887,\n",
       "  1.1488795280456543,\n",
       "  1.1048164367675781,\n",
       "  1.0615475177764893,\n",
       "  1.0244038105010986,\n",
       "  0.9873257875442505,\n",
       "  0.9556819796562195,\n",
       "  0.9259267449378967,\n",
       "  0.8986124396324158,\n",
       "  0.8759840726852417,\n",
       "  0.855448842048645,\n",
       "  0.8366957306861877,\n",
       "  0.8198285698890686,\n",
       "  0.803554117679596,\n",
       "  0.7905494570732117,\n",
       "  0.7768536806106567,\n",
       "  0.7669551968574524,\n",
       "  0.7561792731285095,\n",
       "  0.7466760277748108,\n",
       "  0.7376756072044373,\n",
       "  0.7305980920791626,\n",
       "  0.7228847742080688,\n",
       "  0.7163774967193604,\n",
       "  0.7104954123497009,\n",
       "  0.7050988078117371,\n",
       "  0.699212372303009,\n",
       "  0.6952788233757019,\n",
       "  0.690368115901947,\n",
       "  0.6860706210136414,\n",
       "  0.6812106370925903,\n",
       "  0.6774386763572693,\n",
       "  0.6719725131988525,\n",
       "  0.6691796183586121,\n",
       "  0.6653620004653931,\n",
       "  0.6617165803909302,\n",
       "  0.6577566266059875,\n",
       "  0.6552327275276184,\n",
       "  0.6517016291618347,\n",
       "  0.647070586681366,\n",
       "  0.6441571712493896,\n",
       "  0.6424418091773987,\n",
       "  0.6387898921966553,\n",
       "  0.6347740292549133,\n",
       "  0.6309338808059692,\n",
       "  0.6278091669082642,\n",
       "  0.6243237853050232,\n",
       "  0.6220463514328003,\n",
       "  0.619219183921814,\n",
       "  0.6171039342880249,\n",
       "  0.6139416098594666,\n",
       "  0.6113000512123108,\n",
       "  0.6085134148597717,\n",
       "  0.6058915257453918,\n",
       "  0.6039870977401733,\n",
       "  0.601060152053833,\n",
       "  0.5986791253089905,\n",
       "  0.5959171056747437,\n",
       "  0.592797577381134,\n",
       "  0.5908186435699463,\n",
       "  0.589374303817749,\n",
       "  0.5864521265029907,\n",
       "  0.5840781927108765,\n",
       "  0.5824165344238281,\n",
       "  0.5801048874855042,\n",
       "  0.5776872634887695,\n",
       "  0.5753976106643677,\n",
       "  0.5727880001068115,\n",
       "  0.571277379989624,\n",
       "  0.5692497491836548,\n",
       "  0.5669743418693542,\n",
       "  0.5652943849563599,\n",
       "  0.5637215971946716,\n",
       "  0.5618010759353638,\n",
       "  0.5597445368766785,\n",
       "  0.5588545203208923,\n",
       "  0.5568665862083435,\n",
       "  0.5555164217948914],\n",
       " 'val_accuracy': [0.15000000596046448,\n",
       "  0.25833332538604736,\n",
       "  0.2750000059604645,\n",
       "  0.3083333373069763,\n",
       "  0.3499999940395355,\n",
       "  0.42500001192092896,\n",
       "  0.3916666805744171,\n",
       "  0.3916666805744171,\n",
       "  0.375,\n",
       "  0.375,\n",
       "  0.375,\n",
       "  0.36666667461395264,\n",
       "  0.375,\n",
       "  0.3916666805744171,\n",
       "  0.4583333432674408,\n",
       "  0.3916666805744171,\n",
       "  0.40833333134651184,\n",
       "  0.44999998807907104,\n",
       "  0.5083333253860474,\n",
       "  0.5333333611488342,\n",
       "  0.550000011920929,\n",
       "  0.5833333134651184,\n",
       "  0.6000000238418579,\n",
       "  0.6083333492279053,\n",
       "  0.6333333253860474,\n",
       "  0.6416666507720947,\n",
       "  0.6583333611488342,\n",
       "  0.675000011920929,\n",
       "  0.6916666626930237,\n",
       "  0.699999988079071,\n",
       "  0.699999988079071,\n",
       "  0.699999988079071,\n",
       "  0.7083333134651184,\n",
       "  0.699999988079071,\n",
       "  0.699999988079071,\n",
       "  0.699999988079071,\n",
       "  0.7083333134651184,\n",
       "  0.7083333134651184,\n",
       "  0.7083333134651184,\n",
       "  0.7083333134651184,\n",
       "  0.7083333134651184,\n",
       "  0.7250000238418579,\n",
       "  0.7333333492279053,\n",
       "  0.7416666746139526,\n",
       "  0.7416666746139526,\n",
       "  0.7416666746139526,\n",
       "  0.7416666746139526,\n",
       "  0.75,\n",
       "  0.7416666746139526,\n",
       "  0.75,\n",
       "  0.75,\n",
       "  0.75,\n",
       "  0.75,\n",
       "  0.75,\n",
       "  0.75,\n",
       "  0.7333333492279053,\n",
       "  0.7333333492279053,\n",
       "  0.7333333492279053,\n",
       "  0.7333333492279053,\n",
       "  0.75,\n",
       "  0.75,\n",
       "  0.75,\n",
       "  0.75,\n",
       "  0.75,\n",
       "  0.75,\n",
       "  0.75,\n",
       "  0.75,\n",
       "  0.75,\n",
       "  0.75,\n",
       "  0.75,\n",
       "  0.75,\n",
       "  0.75,\n",
       "  0.75,\n",
       "  0.7666666507720947,\n",
       "  0.7583333253860474,\n",
       "  0.7666666507720947,\n",
       "  0.7583333253860474,\n",
       "  0.7749999761581421,\n",
       "  0.7666666507720947,\n",
       "  0.7749999761581421,\n",
       "  0.7666666507720947,\n",
       "  0.7833333611488342,\n",
       "  0.7833333611488342,\n",
       "  0.7833333611488342,\n",
       "  0.7833333611488342,\n",
       "  0.7833333611488342,\n",
       "  0.7833333611488342,\n",
       "  0.7833333611488342,\n",
       "  0.7833333611488342,\n",
       "  0.7833333611488342,\n",
       "  0.7833333611488342,\n",
       "  0.7833333611488342,\n",
       "  0.7833333611488342,\n",
       "  0.7833333611488342,\n",
       "  0.7833333611488342,\n",
       "  0.7833333611488342,\n",
       "  0.7833333611488342,\n",
       "  0.7833333611488342,\n",
       "  0.7833333611488342,\n",
       "  0.7833333611488342]}"
      ]
     },
     "execution_count": 50,
     "metadata": {},
     "output_type": "execute_result"
    }
   ],
   "source": [
    "history.history"
   ]
  },
  {
   "cell_type": "markdown",
   "metadata": {},
   "source": [
    "Now visualize the loss over time using `history.history`: "
   ]
  },
  {
   "cell_type": "code",
   "execution_count": 51,
   "metadata": {},
   "outputs": [
    {
     "data": {
      "text/plain": [
       "[Text(0, 0.5, 'Accuracy'), Text(0.5, 0, 'Epoch')]"
      ]
     },
     "execution_count": 51,
     "metadata": {},
     "output_type": "execute_result"
    },
    {
     "data": {
      "image/png": "[encoded data removed]",
      "text/plain": [
       "<Figure size 864x576 with 1 Axes>"
      ]
     },
     "metadata": {
      "needs_background": "light"
     },
     "output_type": "display_data"
    },
    {
     "data": {
      "image/png": "[encoded data removed]",
      "text/plain": [
       "<Figure size 864x576 with 1 Axes>"
      ]
     },
     "metadata": {
      "needs_background": "light"
     },
     "output_type": "display_data"
    }
   ],
   "source": [
    "# The history.history[\"loss\"] entry is a dictionary with as many values as epochs that the\n",
    "# model was trained on. \n",
    "df_loss_acc = pd.DataFrame(history.history)\n",
    "df_loss= df_loss_acc[['loss','val_loss']]\n",
    "df_loss.rename(columns={'loss':'train','val_loss':'validation'},inplace=True)\n",
    "df_acc= df_loss_acc[['accuracy','val_accuracy']]\n",
    "df_acc.rename(columns={'accuracy':'train','val_accuracy':'validation'},inplace=True)\n",
    "df_loss.plot(title='Model loss',figsize=(12,8)).set(xlabel='Epoch',ylabel='Loss')\n",
    "df_acc.plot(title='Model Accuracy',figsize=(12,8)).set(xlabel='Epoch',ylabel='Accuracy')"
   ]
  },
  {
   "cell_type": "markdown",
   "metadata": {},
   "source": [
    "**Congratulations**! You've finished the assignment and built two models: One that recognizes  smiles, and another that recognizes SIGN language with almost 80% accuracy on the test set. In addition to that, you now also understand the applications of two Keras APIs: Sequential and Functional. Nicely done! \n",
    "\n",
    "By now, you know a bit about how the Functional API works and may have glimpsed the possibilities. In your next assignment, you'll really get a feel for its power when you get the opportunity to build a very deep ConvNet, using ResNets! "
   ]
  },
  {
   "cell_type": "markdown",
   "metadata": {},
   "source": []
  }
 ],
 "metadata": {
  "coursera": {
   "course_slug": "convolutional-neural-networks",
   "graded_item_id": "bwbJV",
   "launcher_item_id": "0TkXB"
  },
  "kernelspec": {
   "display_name": "Python 3",
   "language": "python",
   "name": "python3"
  },
  "language_info": {
   "codemirror_mode": {
    "name": "ipython",
    "version": 3
   },
   "file_extension": ".py",
   "mimetype": "text/x-python",
   "name": "python",
   "nbconvert_exporter": "python",
   "pygments_lexer": "ipython3",
   "version": "3.7.6"
  }
 },
 "nbformat": 4,
 "nbformat_minor": 2
}
